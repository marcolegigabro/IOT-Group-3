{
 "cells": [
  {
   "cell_type": "code",
   "execution_count": 1,
   "id": "fd561f10",
   "metadata": {},
   "outputs": [],
   "source": [
    "import pandas as pd"
   ]
  },
  {
   "cell_type": "code",
   "execution_count": 2,
   "id": "59d64261",
   "metadata": {},
   "outputs": [],
   "source": [
    "df = pd.read_csv(\"data.csv\")"
   ]
  },
  {
   "cell_type": "code",
   "execution_count": 7,
   "id": "4ec02dbe",
   "metadata": {},
   "outputs": [
    {
     "data": {
      "application/vnd.microsoft.datawrangler.viewer.v0+json": {
       "columns": [
        {
         "name": "index",
         "rawType": "int64",
         "type": "integer"
        },
        {
         "name": "_time",
         "rawType": "datetime64[ns, UTC]",
         "type": "unknown"
        },
        {
         "name": "occupancy",
         "rawType": "int64",
         "type": "integer"
        },
        {
         "name": "_value_1",
         "rawType": "float64",
         "type": "float"
        },
        {
         "name": "_field_1",
         "rawType": "object",
         "type": "string"
        },
        {
         "name": "placement_3",
         "rawType": "object",
         "type": "string"
        },
        {
         "name": "unit_1",
         "rawType": "object",
         "type": "string"
        },
        {
         "name": "_value_2",
         "rawType": "float64",
         "type": "float"
        },
        {
         "name": "_field_2",
         "rawType": "object",
         "type": "string"
        },
        {
         "name": "unit_2",
         "rawType": "object",
         "type": "string"
        },
        {
         "name": "unit_3",
         "rawType": "object",
         "type": "string"
        },
        {
         "name": "temperature_3",
         "rawType": "float64",
         "type": "float"
        },
        {
         "name": "placement_4",
         "rawType": "object",
         "type": "string"
        },
        {
         "name": "unit_4",
         "rawType": "object",
         "type": "string"
        },
        {
         "name": "temperature_4",
         "rawType": "float64",
         "type": "float"
        }
       ],
       "conversionMethod": "pd.DataFrame",
       "ref": "efc8071c-a3db-409f-b94c-2049270523d2",
       "rows": [
        [
         "103194",
         "2025-03-31 09:05:00+00:00",
         "0",
         "17.87",
         "temperature",
         "window",
         "°C",
         "23.2",
         "temperature",
         "°C",
         "°C",
         "22.81",
         "door",
         "°C",
         "22.87"
        ],
        [
         "103195",
         "2025-03-31 09:05:00+00:00",
         "0",
         "17.87",
         "temperature",
         "window",
         "°C",
         "23.2",
         "temperature",
         "°C",
         "°C",
         "22.81",
         "window",
         "°C",
         "14.93"
        ],
        [
         "103196",
         "2025-03-31 09:05:00+00:00",
         "0",
         "17.87",
         "temperature",
         "window",
         "°C",
         "23.2",
         "temperature",
         "°C",
         "°C",
         "22.81",
         "window",
         "°C",
         "17.87"
        ],
        [
         "103197",
         "2025-03-31 09:05:00+00:00",
         "0",
         "17.87",
         "temperature",
         "window",
         "°C",
         "23.2",
         "temperature",
         "°C",
         "°C",
         "23.2",
         "door",
         "°C",
         "22.87"
        ],
        [
         "103198",
         "2025-03-31 09:05:00+00:00",
         "0",
         "17.87",
         "temperature",
         "window",
         "°C",
         "23.2",
         "temperature",
         "°C",
         "°C",
         "23.2",
         "window",
         "°C",
         "14.93"
        ]
       ],
       "shape": {
        "columns": 14,
        "rows": 5
       }
      },
      "text/html": [
       "<div>\n",
       "<style scoped>\n",
       "    .dataframe tbody tr th:only-of-type {\n",
       "        vertical-align: middle;\n",
       "    }\n",
       "\n",
       "    .dataframe tbody tr th {\n",
       "        vertical-align: top;\n",
       "    }\n",
       "\n",
       "    .dataframe thead th {\n",
       "        text-align: right;\n",
       "    }\n",
       "</style>\n",
       "<table border=\"1\" class=\"dataframe\">\n",
       "  <thead>\n",
       "    <tr style=\"text-align: right;\">\n",
       "      <th></th>\n",
       "      <th>_time</th>\n",
       "      <th>occupancy</th>\n",
       "      <th>_value_1</th>\n",
       "      <th>_field_1</th>\n",
       "      <th>placement_3</th>\n",
       "      <th>unit_1</th>\n",
       "      <th>_value_2</th>\n",
       "      <th>_field_2</th>\n",
       "      <th>unit_2</th>\n",
       "      <th>unit_3</th>\n",
       "      <th>temperature_3</th>\n",
       "      <th>placement_4</th>\n",
       "      <th>unit_4</th>\n",
       "      <th>temperature_4</th>\n",
       "    </tr>\n",
       "  </thead>\n",
       "  <tbody>\n",
       "    <tr>\n",
       "      <th>103194</th>\n",
       "      <td>2025-03-31 09:05:00+00:00</td>\n",
       "      <td>0</td>\n",
       "      <td>17.87</td>\n",
       "      <td>temperature</td>\n",
       "      <td>window</td>\n",
       "      <td>°C</td>\n",
       "      <td>23.2</td>\n",
       "      <td>temperature</td>\n",
       "      <td>°C</td>\n",
       "      <td>°C</td>\n",
       "      <td>22.81</td>\n",
       "      <td>door</td>\n",
       "      <td>°C</td>\n",
       "      <td>22.87</td>\n",
       "    </tr>\n",
       "    <tr>\n",
       "      <th>103195</th>\n",
       "      <td>2025-03-31 09:05:00+00:00</td>\n",
       "      <td>0</td>\n",
       "      <td>17.87</td>\n",
       "      <td>temperature</td>\n",
       "      <td>window</td>\n",
       "      <td>°C</td>\n",
       "      <td>23.2</td>\n",
       "      <td>temperature</td>\n",
       "      <td>°C</td>\n",
       "      <td>°C</td>\n",
       "      <td>22.81</td>\n",
       "      <td>window</td>\n",
       "      <td>°C</td>\n",
       "      <td>14.93</td>\n",
       "    </tr>\n",
       "    <tr>\n",
       "      <th>103196</th>\n",
       "      <td>2025-03-31 09:05:00+00:00</td>\n",
       "      <td>0</td>\n",
       "      <td>17.87</td>\n",
       "      <td>temperature</td>\n",
       "      <td>window</td>\n",
       "      <td>°C</td>\n",
       "      <td>23.2</td>\n",
       "      <td>temperature</td>\n",
       "      <td>°C</td>\n",
       "      <td>°C</td>\n",
       "      <td>22.81</td>\n",
       "      <td>window</td>\n",
       "      <td>°C</td>\n",
       "      <td>17.87</td>\n",
       "    </tr>\n",
       "    <tr>\n",
       "      <th>103197</th>\n",
       "      <td>2025-03-31 09:05:00+00:00</td>\n",
       "      <td>0</td>\n",
       "      <td>17.87</td>\n",
       "      <td>temperature</td>\n",
       "      <td>window</td>\n",
       "      <td>°C</td>\n",
       "      <td>23.2</td>\n",
       "      <td>temperature</td>\n",
       "      <td>°C</td>\n",
       "      <td>°C</td>\n",
       "      <td>23.20</td>\n",
       "      <td>door</td>\n",
       "      <td>°C</td>\n",
       "      <td>22.87</td>\n",
       "    </tr>\n",
       "    <tr>\n",
       "      <th>103198</th>\n",
       "      <td>2025-03-31 09:05:00+00:00</td>\n",
       "      <td>0</td>\n",
       "      <td>17.87</td>\n",
       "      <td>temperature</td>\n",
       "      <td>window</td>\n",
       "      <td>°C</td>\n",
       "      <td>23.2</td>\n",
       "      <td>temperature</td>\n",
       "      <td>°C</td>\n",
       "      <td>°C</td>\n",
       "      <td>23.20</td>\n",
       "      <td>window</td>\n",
       "      <td>°C</td>\n",
       "      <td>14.93</td>\n",
       "    </tr>\n",
       "  </tbody>\n",
       "</table>\n",
       "</div>"
      ],
      "text/plain": [
       "                           _time  occupancy  _value_1     _field_1  \\\n",
       "103194 2025-03-31 09:05:00+00:00          0     17.87  temperature   \n",
       "103195 2025-03-31 09:05:00+00:00          0     17.87  temperature   \n",
       "103196 2025-03-31 09:05:00+00:00          0     17.87  temperature   \n",
       "103197 2025-03-31 09:05:00+00:00          0     17.87  temperature   \n",
       "103198 2025-03-31 09:05:00+00:00          0     17.87  temperature   \n",
       "\n",
       "       placement_3 unit_1  _value_2     _field_2 unit_2 unit_3  temperature_3  \\\n",
       "103194      window     °C      23.2  temperature     °C     °C          22.81   \n",
       "103195      window     °C      23.2  temperature     °C     °C          22.81   \n",
       "103196      window     °C      23.2  temperature     °C     °C          22.81   \n",
       "103197      window     °C      23.2  temperature     °C     °C          23.20   \n",
       "103198      window     °C      23.2  temperature     °C     °C          23.20   \n",
       "\n",
       "       placement_4 unit_4  temperature_4  \n",
       "103194        door     °C          22.87  \n",
       "103195      window     °C          14.93  \n",
       "103196      window     °C          17.87  \n",
       "103197        door     °C          22.87  \n",
       "103198      window     °C          14.93  "
      ]
     },
     "execution_count": 7,
     "metadata": {},
     "output_type": "execute_result"
    }
   ],
   "source": [
    "df.tail()"
   ]
  },
  {
   "cell_type": "code",
   "execution_count": 4,
   "id": "93e890a8",
   "metadata": {},
   "outputs": [],
   "source": [
    "def make_prediction(df):\n",
    "    df['_time'] = pd.to_datetime(df['_time'])\n",
    "    latest_time = df['_time'].max()\n",
    "    one_week_ago = latest_time - pd.Timedelta(days=7)\n",
    "    last_week_df = df[df['_time'] > one_week_ago].copy()\n",
    "    last_week_df['_time'] += pd.Timedelta(days=7)\n",
    "    return last_week_df"
   ]
  },
  {
   "cell_type": "code",
   "execution_count": 5,
   "id": "cb601aa0",
   "metadata": {},
   "outputs": [],
   "source": [
    "new = make_prediction(df)"
   ]
  },
  {
   "cell_type": "code",
   "execution_count": 8,
   "id": "72e907cc",
   "metadata": {},
   "outputs": [
    {
     "data": {
      "application/vnd.microsoft.datawrangler.viewer.v0+json": {
       "columns": [
        {
         "name": "index",
         "rawType": "int64",
         "type": "integer"
        },
        {
         "name": "_time",
         "rawType": "datetime64[ns, UTC]",
         "type": "unknown"
        },
        {
         "name": "occupancy",
         "rawType": "int64",
         "type": "integer"
        },
        {
         "name": "_value_1",
         "rawType": "float64",
         "type": "float"
        },
        {
         "name": "_field_1",
         "rawType": "object",
         "type": "string"
        },
        {
         "name": "placement_3",
         "rawType": "object",
         "type": "string"
        },
        {
         "name": "unit_1",
         "rawType": "object",
         "type": "string"
        },
        {
         "name": "_value_2",
         "rawType": "float64",
         "type": "float"
        },
        {
         "name": "_field_2",
         "rawType": "object",
         "type": "string"
        },
        {
         "name": "unit_2",
         "rawType": "object",
         "type": "string"
        },
        {
         "name": "unit_3",
         "rawType": "object",
         "type": "string"
        },
        {
         "name": "temperature_3",
         "rawType": "float64",
         "type": "float"
        },
        {
         "name": "placement_4",
         "rawType": "object",
         "type": "string"
        },
        {
         "name": "unit_4",
         "rawType": "object",
         "type": "string"
        },
        {
         "name": "temperature_4",
         "rawType": "float64",
         "type": "float"
        }
       ],
       "conversionMethod": "pd.DataFrame",
       "ref": "72c35d6a-82df-4fa1-ba35-22ab4d83c025",
       "rows": [
        [
         "103194",
         "2025-04-07 09:05:00+00:00",
         "0",
         "17.87",
         "temperature",
         "window",
         "°C",
         "23.2",
         "temperature",
         "°C",
         "°C",
         "22.81",
         "door",
         "°C",
         "22.87"
        ],
        [
         "103195",
         "2025-04-07 09:05:00+00:00",
         "0",
         "17.87",
         "temperature",
         "window",
         "°C",
         "23.2",
         "temperature",
         "°C",
         "°C",
         "22.81",
         "window",
         "°C",
         "14.93"
        ],
        [
         "103196",
         "2025-04-07 09:05:00+00:00",
         "0",
         "17.87",
         "temperature",
         "window",
         "°C",
         "23.2",
         "temperature",
         "°C",
         "°C",
         "22.81",
         "window",
         "°C",
         "17.87"
        ],
        [
         "103197",
         "2025-04-07 09:05:00+00:00",
         "0",
         "17.87",
         "temperature",
         "window",
         "°C",
         "23.2",
         "temperature",
         "°C",
         "°C",
         "23.2",
         "door",
         "°C",
         "22.87"
        ],
        [
         "103198",
         "2025-04-07 09:05:00+00:00",
         "0",
         "17.87",
         "temperature",
         "window",
         "°C",
         "23.2",
         "temperature",
         "°C",
         "°C",
         "23.2",
         "window",
         "°C",
         "14.93"
        ]
       ],
       "shape": {
        "columns": 14,
        "rows": 5
       }
      },
      "text/html": [
       "<div>\n",
       "<style scoped>\n",
       "    .dataframe tbody tr th:only-of-type {\n",
       "        vertical-align: middle;\n",
       "    }\n",
       "\n",
       "    .dataframe tbody tr th {\n",
       "        vertical-align: top;\n",
       "    }\n",
       "\n",
       "    .dataframe thead th {\n",
       "        text-align: right;\n",
       "    }\n",
       "</style>\n",
       "<table border=\"1\" class=\"dataframe\">\n",
       "  <thead>\n",
       "    <tr style=\"text-align: right;\">\n",
       "      <th></th>\n",
       "      <th>_time</th>\n",
       "      <th>occupancy</th>\n",
       "      <th>_value_1</th>\n",
       "      <th>_field_1</th>\n",
       "      <th>placement_3</th>\n",
       "      <th>unit_1</th>\n",
       "      <th>_value_2</th>\n",
       "      <th>_field_2</th>\n",
       "      <th>unit_2</th>\n",
       "      <th>unit_3</th>\n",
       "      <th>temperature_3</th>\n",
       "      <th>placement_4</th>\n",
       "      <th>unit_4</th>\n",
       "      <th>temperature_4</th>\n",
       "    </tr>\n",
       "  </thead>\n",
       "  <tbody>\n",
       "    <tr>\n",
       "      <th>103194</th>\n",
       "      <td>2025-04-07 09:05:00+00:00</td>\n",
       "      <td>0</td>\n",
       "      <td>17.87</td>\n",
       "      <td>temperature</td>\n",
       "      <td>window</td>\n",
       "      <td>°C</td>\n",
       "      <td>23.2</td>\n",
       "      <td>temperature</td>\n",
       "      <td>°C</td>\n",
       "      <td>°C</td>\n",
       "      <td>22.81</td>\n",
       "      <td>door</td>\n",
       "      <td>°C</td>\n",
       "      <td>22.87</td>\n",
       "    </tr>\n",
       "    <tr>\n",
       "      <th>103195</th>\n",
       "      <td>2025-04-07 09:05:00+00:00</td>\n",
       "      <td>0</td>\n",
       "      <td>17.87</td>\n",
       "      <td>temperature</td>\n",
       "      <td>window</td>\n",
       "      <td>°C</td>\n",
       "      <td>23.2</td>\n",
       "      <td>temperature</td>\n",
       "      <td>°C</td>\n",
       "      <td>°C</td>\n",
       "      <td>22.81</td>\n",
       "      <td>window</td>\n",
       "      <td>°C</td>\n",
       "      <td>14.93</td>\n",
       "    </tr>\n",
       "    <tr>\n",
       "      <th>103196</th>\n",
       "      <td>2025-04-07 09:05:00+00:00</td>\n",
       "      <td>0</td>\n",
       "      <td>17.87</td>\n",
       "      <td>temperature</td>\n",
       "      <td>window</td>\n",
       "      <td>°C</td>\n",
       "      <td>23.2</td>\n",
       "      <td>temperature</td>\n",
       "      <td>°C</td>\n",
       "      <td>°C</td>\n",
       "      <td>22.81</td>\n",
       "      <td>window</td>\n",
       "      <td>°C</td>\n",
       "      <td>17.87</td>\n",
       "    </tr>\n",
       "    <tr>\n",
       "      <th>103197</th>\n",
       "      <td>2025-04-07 09:05:00+00:00</td>\n",
       "      <td>0</td>\n",
       "      <td>17.87</td>\n",
       "      <td>temperature</td>\n",
       "      <td>window</td>\n",
       "      <td>°C</td>\n",
       "      <td>23.2</td>\n",
       "      <td>temperature</td>\n",
       "      <td>°C</td>\n",
       "      <td>°C</td>\n",
       "      <td>23.20</td>\n",
       "      <td>door</td>\n",
       "      <td>°C</td>\n",
       "      <td>22.87</td>\n",
       "    </tr>\n",
       "    <tr>\n",
       "      <th>103198</th>\n",
       "      <td>2025-04-07 09:05:00+00:00</td>\n",
       "      <td>0</td>\n",
       "      <td>17.87</td>\n",
       "      <td>temperature</td>\n",
       "      <td>window</td>\n",
       "      <td>°C</td>\n",
       "      <td>23.2</td>\n",
       "      <td>temperature</td>\n",
       "      <td>°C</td>\n",
       "      <td>°C</td>\n",
       "      <td>23.20</td>\n",
       "      <td>window</td>\n",
       "      <td>°C</td>\n",
       "      <td>14.93</td>\n",
       "    </tr>\n",
       "  </tbody>\n",
       "</table>\n",
       "</div>"
      ],
      "text/plain": [
       "                           _time  occupancy  _value_1     _field_1  \\\n",
       "103194 2025-04-07 09:05:00+00:00          0     17.87  temperature   \n",
       "103195 2025-04-07 09:05:00+00:00          0     17.87  temperature   \n",
       "103196 2025-04-07 09:05:00+00:00          0     17.87  temperature   \n",
       "103197 2025-04-07 09:05:00+00:00          0     17.87  temperature   \n",
       "103198 2025-04-07 09:05:00+00:00          0     17.87  temperature   \n",
       "\n",
       "       placement_3 unit_1  _value_2     _field_2 unit_2 unit_3  temperature_3  \\\n",
       "103194      window     °C      23.2  temperature     °C     °C          22.81   \n",
       "103195      window     °C      23.2  temperature     °C     °C          22.81   \n",
       "103196      window     °C      23.2  temperature     °C     °C          22.81   \n",
       "103197      window     °C      23.2  temperature     °C     °C          23.20   \n",
       "103198      window     °C      23.2  temperature     °C     °C          23.20   \n",
       "\n",
       "       placement_4 unit_4  temperature_4  \n",
       "103194        door     °C          22.87  \n",
       "103195      window     °C          14.93  \n",
       "103196      window     °C          17.87  \n",
       "103197        door     °C          22.87  \n",
       "103198      window     °C          14.93  "
      ]
     },
     "execution_count": 8,
     "metadata": {},
     "output_type": "execute_result"
    }
   ],
   "source": [
    "new.tail()"
   ]
  },
  {
   "cell_type": "code",
   "execution_count": null,
   "id": "ca2a9754",
   "metadata": {},
   "outputs": [],
   "source": []
  }
 ],
 "metadata": {
  "kernelspec": {
   "display_name": "base",
   "language": "python",
   "name": "python3"
  },
  "language_info": {
   "codemirror_mode": {
    "name": "ipython",
    "version": 3
   },
   "file_extension": ".py",
   "mimetype": "text/x-python",
   "name": "python",
   "nbconvert_exporter": "python",
   "pygments_lexer": "ipython3",
   "version": "3.12.7"
  }
 },
 "nbformat": 4,
 "nbformat_minor": 5
}
